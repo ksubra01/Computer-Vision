{
  "nbformat": 4,
  "nbformat_minor": 0,
  "metadata": {
    "colab": {
      "provenance": []
    },
    "kernelspec": {
      "name": "python3",
      "display_name": "Python 3"
    },
    "language_info": {
      "name": "python"
    }
  },
  "cells": [
    {
      "cell_type": "code",
      "source": [
        "!pip install Pillow"
      ],
      "metadata": {
        "colab": {
          "base_uri": "https://localhost:8080/"
        },
        "id": "QPx8oOPXHeaK",
        "outputId": "bab7b363-9c5d-4ee3-da4f-47dbb7d238d2"
      },
      "execution_count": null,
      "outputs": [
        {
          "output_type": "stream",
          "name": "stdout",
          "text": [
            "Requirement already satisfied: Pillow in /usr/local/lib/python3.10/dist-packages (9.4.0)\n"
          ]
        }
      ]
    },
    {
      "cell_type": "code",
      "source": [
        "from PIL import Image, ImageDraw\n",
        "import random\n",
        "import os\n",
        "import math\n",
        "# Create a directory to save the generated images\n",
        "os.makedirs(\"generated_images\", exist_ok=True)\n",
        "\n",
        "# Number of images to generate\n",
        "num_images = 300000\n",
        "\n",
        "# Image size\n",
        "image_size = (64, 64)\n",
        "\n",
        "# Create and save 1000 images\n",
        "for i in range(num_images):\n",
        "    # Create a black background image\n",
        "    image = Image.new(\"RGB\", image_size, \"black\")\n",
        "    draw = ImageDraw.Draw(image)\n",
        "\n",
        "    # Number of squares in each image (you can change this if needed)\n",
        "    num_squares = random.randint(1, 5)\n",
        "\n",
        "    square_color = (random.randint(0, 255), random.randint(0, 255), random.randint(0, 255))\n",
        "\n",
        "    # Random square size (smaller than the image)\n",
        "    square_size = random.randint(5, 40)\n",
        "    sq_sz = (square_size,square_size)\n",
        "\n",
        "    # Random square position\n",
        "    square_x = random.randint(0, (64 - math.ceil(1.414 *square_size)))\n",
        "    square_y = random.randint(0, (64 - math.ceil(1.414 * square_size)))\n",
        "\n",
        "    # Random square rotation angle\n",
        "    square_rotation = random.randint(0, 360)\n",
        "\n",
        "    # Draw the rotated square\n",
        "    #draw.rectangle([(square_x, square_y), (square_x + square_size, square_y + square_size)], fill=square_color, outline=None, width=0)\n",
        "    img = Image.new(\"RGB\",sq_sz,color=square_color)\n",
        "    img = img.rotate(square_rotation, expand=True)\n",
        "\n",
        "    # Paste square onto the image\n",
        "    image.paste(img, (square_x, square_y))\n",
        "    # image = image.resize(image_size)\n",
        "\n",
        "    # Save the generated image\n",
        "    image.save(f\"generated_images/image_{i+1}.png\")\n",
        "\n",
        "print(f\"{num_images} images have been generated and saved in the 'generated_images' directory.\")\n"
      ],
      "metadata": {
        "colab": {
          "base_uri": "https://localhost:8080/"
        },
        "id": "fINBAxF-Hnyt",
        "outputId": "f97b7f63-ed81-4c4a-a5ac-08bb421e5968"
      },
      "execution_count": null,
      "outputs": [
        {
          "output_type": "stream",
          "name": "stdout",
          "text": [
            "300000 images have been generated and saved in the 'generated_images' directory.\n"
          ]
        }
      ]
    },
    {
      "cell_type": "code",
      "source": [
        "import shutil\n",
        "\n",
        "\n",
        "# Create a zip file containing the generated images\n",
        "shutil.make_archive(\"/content/generated_images\", 'zip', \"generated_images\")\n",
        "\n",
        "# Move the zip file to the /content directory (where you can easily access it)\n",
        "shutil.move(\"/content/generated_images.zip\", \"/content/generated_images.zip\")\n",
        "\n",
        "# Provide a download link for the zip file\n",
        "from google.colab import files\n",
        "files.download(\"/content/generated_images.zip\")"
      ],
      "metadata": {
        "colab": {
          "base_uri": "https://localhost:8080/",
          "height": 17
        },
        "id": "JKOI2cC6OY6i",
        "outputId": "68588b90-3aeb-4ad2-c821-774076728db4"
      },
      "execution_count": null,
      "outputs": [
        {
          "output_type": "display_data",
          "data": {
            "text/plain": [
              "<IPython.core.display.Javascript object>"
            ],
            "application/javascript": [
              "\n",
              "    async function download(id, filename, size) {\n",
              "      if (!google.colab.kernel.accessAllowed) {\n",
              "        return;\n",
              "      }\n",
              "      const div = document.createElement('div');\n",
              "      const label = document.createElement('label');\n",
              "      label.textContent = `Downloading \"${filename}\": `;\n",
              "      div.appendChild(label);\n",
              "      const progress = document.createElement('progress');\n",
              "      progress.max = size;\n",
              "      div.appendChild(progress);\n",
              "      document.body.appendChild(div);\n",
              "\n",
              "      const buffers = [];\n",
              "      let downloaded = 0;\n",
              "\n",
              "      const channel = await google.colab.kernel.comms.open(id);\n",
              "      // Send a message to notify the kernel that we're ready.\n",
              "      channel.send({})\n",
              "\n",
              "      for await (const message of channel.messages) {\n",
              "        // Send a message to notify the kernel that we're ready.\n",
              "        channel.send({})\n",
              "        if (message.buffers) {\n",
              "          for (const buffer of message.buffers) {\n",
              "            buffers.push(buffer);\n",
              "            downloaded += buffer.byteLength;\n",
              "            progress.value = downloaded;\n",
              "          }\n",
              "        }\n",
              "      }\n",
              "      const blob = new Blob(buffers, {type: 'application/binary'});\n",
              "      const a = document.createElement('a');\n",
              "      a.href = window.URL.createObjectURL(blob);\n",
              "      a.download = filename;\n",
              "      div.appendChild(a);\n",
              "      a.click();\n",
              "      div.remove();\n",
              "    }\n",
              "  "
            ]
          },
          "metadata": {}
        },
        {
          "output_type": "display_data",
          "data": {
            "text/plain": [
              "<IPython.core.display.Javascript object>"
            ],
            "application/javascript": [
              "download(\"download_71726284-fb38-4620-9f5d-7aa54cc25ca4\", \"generated_images.zip\", 109384937)"
            ]
          },
          "metadata": {}
        }
      ]
    },
    {
      "cell_type": "code",
      "source": [
        "from matplotlib import pyplot as plt\n",
        "im = Image.open(r\"/content/generated_images/image_22.png\")\n",
        "plt.imshow(im)\n",
        "plt.show()"
      ],
      "metadata": {
        "colab": {
          "base_uri": "https://localhost:8080/",
          "height": 432
        },
        "id": "ABK3LpzmPlfk",
        "outputId": "77510f94-20f2-45d3-b1c5-b49b2f8e44f4"
      },
      "execution_count": null,
      "outputs": [
        {
          "output_type": "display_data",
          "data": {
            "text/plain": [
              "<Figure size 640x480 with 1 Axes>"
            ],
            "image/png": "[encoded data removed]"
          },
          "metadata": {}
        }
      ]
    },
    {
      "cell_type": "code",
      "source": [],
      "metadata": {
        "id": "JUOavb1wpieq"
      },
      "execution_count": null,
      "outputs": []
    }
  ]
}